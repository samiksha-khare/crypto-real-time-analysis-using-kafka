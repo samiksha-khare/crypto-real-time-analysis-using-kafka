{
 "cells": [
  {
   "cell_type": "code",
   "execution_count": 1,
   "id": "0af34afd-85f4-4751-b9cb-a1efd5f25e5d",
   "metadata": {},
   "outputs": [
    {
     "name": "stdout",
     "output_type": "stream",
     "text": [
      "Requirement already satisfied: kafka-python in /Users/samiksha/anaconda3/lib/python3.11/site-packages (2.0.2)\n",
      "Note: you may need to restart the kernel to use updated packages.\n"
     ]
    }
   ],
   "source": [
    "pip install kafka-python"
   ]
  },
  {
   "cell_type": "code",
   "execution_count": 2,
   "id": "047cca56-83d4-4203-888c-08c56efe1916",
   "metadata": {},
   "outputs": [],
   "source": [
    "import pandas as pd\n",
    "from kafka import KafkaConsumer, KafkaProducer\n",
    "import time \n",
    "from datetime import datetime\n",
    "from json import dumps\n",
    "import json\n",
    "import requests\n",
    "from configparser import RawConfigParser"
   ]
  },
  {
   "cell_type": "code",
   "execution_count": 3,
   "id": "e96dc2aa-1a30-4631-be26-53a5f089780c",
   "metadata": {},
   "outputs": [
    {
     "data": {
      "text/plain": [
       "['config_local.conf']"
      ]
     },
     "execution_count": 3,
     "metadata": {},
     "output_type": "execute_result"
    }
   ],
   "source": [
    "config_local = RawConfigParser()\n",
    "config_local.read(\"config_local.conf\")"
   ]
  },
  {
   "cell_type": "markdown",
   "id": "03c6b8c5-a3f2-4fe0-8d45-e4b5b38e4f4b",
   "metadata": {},
   "source": [
    "Kafka Producer Initialization:\n",
    "- The KafkaProducer is initialized with bootstrap_servers pointing to the Kafka brokers, and\n",
    "- value_serializer is used to serialize data (Python objects) into JSON format and encode it to bytes before sending it to Kafka."
   ]
  },
  {
   "cell_type": "code",
   "execution_count": 5,
   "id": "0322e8c7-144d-44d0-94f4-860e520f5776",
   "metadata": {},
   "outputs": [],
   "source": [
    "# This code sets up a Kafka producer that connects to a specified broker (in this case its local) \n",
    "# It encodes the messages to UTF-8 so they can be sent to Kafka correctly and any consumer that reads these messages can decode them as UTF-8 JSON.\n",
    "\n",
    "server = config_local['Host']['ip']\n",
    "port = config_local['Host']['port']\n",
    "server = [f\"{server}:{port}\"]\n",
    "\n",
    "producer = KafkaProducer(bootstrap_servers=server,\n",
    "                        value_serializer=lambda x:dumps(x).encode('utf-8'))"
   ]
  },
  {
   "cell_type": "code",
   "execution_count": 6,
   "id": "1cb4d39e-c9f1-4c08-938f-ed141dab2c52",
   "metadata": {},
   "outputs": [
    {
     "data": {
      "text/plain": [
       "<kafka.producer.future.FutureRecordMetadata at 0x128eb4250>"
      ]
     },
     "execution_count": 6,
     "metadata": {},
     "output_type": "execute_result"
    }
   ],
   "source": [
    "# Test\n",
    "producer.send('crypto-currency', value= \"{'gaurav': 'bar' }\")"
   ]
  },
  {
   "cell_type": "code",
   "execution_count": 7,
   "id": "8330a277-7116-49d4-8de0-f13f42696dc2",
   "metadata": {},
   "outputs": [],
   "source": [
    "# Function to fetch cryptocurrency data from the API \n",
    "\n",
    "def cryptoApi():\n",
    "    url = config_local['CryptoCoinAPI']['url']\n",
    "    \n",
    "    response = requests.get(url)      # get response from open-weather-url\n",
    "    result = response.json()          # convert in json\n",
    "    \n",
    "    current_timestamp = datetime.now().strftime(\"%Y-%m-%d %H:%M:%S\")\n",
    "    top_10 = {}\n",
    "    top_10['timestamp'] = current_timestamp\n",
    "    top_10['data'] = result['data'][:10]   # extract top 10 response (python object i.e Dictionary)\n",
    "    \n",
    "    # Send the data to the Kafka topic\n",
    "    producer.send('crypto-currency',value=top_10)\n",
    "    return top_10\n",
    "     "
   ]
  },
  {
   "cell_type": "code",
   "execution_count": 8,
   "id": "cdfdbb43-5912-4bb8-823f-2f719653f87d",
   "metadata": {},
   "outputs": [
    {
     "name": "stdout",
     "output_type": "stream",
     "text": [
      "Calling crypto API for Counter: 1\n",
      "Sleep for 15 seconds...\n",
      "Calling crypto API for Counter: 2\n",
      "Sleep for 15 seconds...\n",
      "Calling crypto API for Counter: 3\n",
      "Sleep for 15 seconds...\n",
      "Calling crypto API for Counter: 4\n",
      "Sleep for 15 seconds...\n",
      "Calling crypto API for Counter: 5\n",
      "Sleep for 15 seconds...\n",
      "Calling crypto API for Counter: 6\n",
      "Sleep for 15 seconds...\n",
      "Calling crypto API for Counter: 7\n",
      "Sleep for 15 seconds...\n",
      "Calling crypto API for Counter: 8\n",
      "Sleep for 15 seconds...\n",
      "Calling crypto API for Counter: 9\n",
      "Sleep for 15 seconds...\n",
      "Calling crypto API for Counter: 10\n",
      "Sleep for 15 seconds...\n"
     ]
    }
   ],
   "source": [
    "# Call the crypto API 10 times with a 15-second interval. Change condition to while(True) to continuously fetch real-time data.\n",
    "\n",
    "counter = 0\n",
    "while(counter < 10):\n",
    "    counter = counter+1\n",
    "    print(f\"Calling crypto API for Counter: {counter}\")\n",
    "    cryptoApi()\n",
    "    print(\"Sleep for 15 seconds...\")\n",
    "    time.sleep(15)\n"
   ]
  },
  {
   "cell_type": "code",
   "execution_count": null,
   "id": "95bc4383-b548-4869-a695-e65186fa2921",
   "metadata": {},
   "outputs": [],
   "source": []
  }
 ],
 "metadata": {
  "kernelspec": {
   "display_name": "Python 3 (ipykernel)",
   "language": "python",
   "name": "python3"
  },
  "language_info": {
   "codemirror_mode": {
    "name": "ipython",
    "version": 3
   },
   "file_extension": ".py",
   "mimetype": "text/x-python",
   "name": "python",
   "nbconvert_exporter": "python",
   "pygments_lexer": "ipython3",
   "version": "3.11.5"
  }
 },
 "nbformat": 4,
 "nbformat_minor": 5
}
