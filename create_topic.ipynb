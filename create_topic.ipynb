{
 "cells": [
  {
   "cell_type": "code",
   "execution_count": 9,
   "id": "1d5a678f-172b-4f2b-b819-45cd32123e67",
   "metadata": {},
   "outputs": [],
   "source": [
    "from kafka.admin import KafkaAdminClient, NewTopic"
   ]
  },
  {
   "cell_type": "code",
   "execution_count": 11,
   "id": "aefea481-f56a-4348-8b47-9eafeb9837ae",
   "metadata": {},
   "outputs": [],
   "source": [
    "def create_kafka_topics(bootstrap_servers, topics, num_partitions=1, replication_factor=1):\n",
    "    \"\"\"\n",
    "    Create Kafka topics using kafka-python.\n",
    "\n",
    "    :param bootstrap_servers: Kafka broker address (e.g., 'localhost:9092').\n",
    "    :param topics: List of topic names to create.\n",
    "    :param num_partitions: Number of partitions for each topic.\n",
    "    :param replication_factor: Replication factor for each topic.\n",
    "    \"\"\"\n",
    "    try:\n",
    "        admin_client = KafkaAdminClient(bootstrap_servers=bootstrap_servers)\n",
    "        # Define topics to create\n",
    "        topic_list = [\n",
    "            NewTopic(name=topic, num_partitions=num_partitions, replication_factor=replication_factor)\n",
    "            for topic in topics\n",
    "        ]\n",
    "\n",
    "        # Attempt to create the topics\n",
    "        admin_client.create_topics(new_topics=topic_list, validate_only=False)\n",
    "        print(f\"Topics created successfully: {', '.join(topics)}\")\n",
    "    except Exception as e:\n",
    "        print(f\"Error creating topics: {e}\")\n",
    "    finally:\n",
    "        admin_client.close()\n"
   ]
  },
  {
   "cell_type": "code",
   "execution_count": 13,
   "id": "190a3d1a-b2a8-4a6c-b38c-d65ce7b5f890",
   "metadata": {},
   "outputs": [
    {
     "name": "stdout",
     "output_type": "stream",
     "text": [
      "Error creating topics: [Error 36] TopicAlreadyExistsError: Request 'CreateTopicsRequest_v3(create_topic_requests=[(topic='crypto-currency', num_partitions=1, replication_factor=1, replica_assignment=[], configs=[])], timeout=30000, validate_only=False)' failed with response 'CreateTopicsResponse_v3(throttle_time_ms=0, topic_errors=[(topic='crypto-currency', error_code=36, error_message=\"Topic 'crypto-currency' already exists.\")])'.\n"
     ]
    }
   ],
   "source": [
    "# Kafka Configuration\n",
    "bootstrap_servers = \"localhost:9092\"\n",
    "topics = [\"crypto-currency\"]\n",
    "\n",
    "# Create Kafka topics\n",
    "create_kafka_topics(bootstrap_servers, topics)"
   ]
  },
  {
   "cell_type": "code",
   "execution_count": null,
   "id": "8d9faa09-fc85-4ad7-b217-e33c6ebdd9e3",
   "metadata": {},
   "outputs": [],
   "source": []
  }
 ],
 "metadata": {
  "kernelspec": {
   "display_name": "Python 3 (ipykernel)",
   "language": "python",
   "name": "python3"
  },
  "language_info": {
   "codemirror_mode": {
    "name": "ipython",
    "version": 3
   },
   "file_extension": ".py",
   "mimetype": "text/x-python",
   "name": "python",
   "nbconvert_exporter": "python",
   "pygments_lexer": "ipython3",
   "version": "3.11.5"
  }
 },
 "nbformat": 4,
 "nbformat_minor": 5
}
